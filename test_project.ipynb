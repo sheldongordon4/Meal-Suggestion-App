{
 "cells": [
  {
   "cell_type": "code",
   "execution_count": null,
   "id": "69b3ba76-becd-4344-87d3-68ab3ea9420a",
   "metadata": {},
   "outputs": [],
   "source": [
    "import pytest\n",
    "from unittest.mock import patch\n",
    "from project import access_csv\n",
    "from project import meal_choice\n",
    "from project import validate_email\n",
    "from project import send_email\n",
    "\n",
    "\n",
    "def test_access_csv():\n",
    "    with patch('builtins.print') as mock_print:\n",
    "        access_csv('non_existent_file.csv')\n",
    "        mock_print.assert_called_with('Error: File at \"non_existent_file.csv\" not found.')\n",
    "\n",
    "\n",
    "def test_meal_choice():\n",
    "    recipe_dict = {\n",
    "        'pasta': {'recipe_name': 'Pasta', 'ingredients': 'Tomato', 'directions': 'Cook it'}\n",
    "    }\n",
    "\n",
    "    with patch('builtins.input', side_effect=['pasta', 'no']):\n",
    "        result = meal_choice(recipe_dict)\n",
    "        assert result['status'] == 'success'\n",
    "\n",
    "   \n",
    "def test_validate_email():\n",
    "    assert validate_email('sg4@@ymail.com') == 'Invalid'\n",
    "    assert validate_email('sg4@ymail.com') == 'Valid'\n",
    "\n",
    "\n",
    "def test_send_email():\n",
    "    with pytest.raises(Exception):\n",
    "        send_email('sg4@@ymail.com')\n"
   ]
  }
 ],
 "metadata": {
  "kernelspec": {
   "display_name": "Python 3 (ipykernel)",
   "language": "python",
   "name": "python3"
  },
  "language_info": {
   "codemirror_mode": {
    "name": "ipython",
    "version": 3
   },
   "file_extension": ".py",
   "mimetype": "text/x-python",
   "name": "python",
   "nbconvert_exporter": "python",
   "pygments_lexer": "ipython3",
   "version": "3.12.4"
  }
 },
 "nbformat": 4,
 "nbformat_minor": 5
}
